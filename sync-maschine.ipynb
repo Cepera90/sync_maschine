{
  "cells": [
    {
      "cell_type": "code",
      "execution_count": 2,
      "id": "ef1735ea",
      "metadata": {
        "_cell_guid": "b1076dfc-b9ad-4769-8c92-a6c4dae69d19",
        "_uuid": "8f2839f25d086af736a60e9eeb907d3b93b6e0e5",
        "execution": {
          "iopub.execute_input": "2022-01-04T15:32:49.141693Z",
          "iopub.status.busy": "2022-01-04T15:32:49.138941Z",
          "iopub.status.idle": "2022-01-04T15:32:51.351614Z",
          "shell.execute_reply": "2022-01-04T15:32:51.352534Z",
          "shell.execute_reply.started": "2022-01-04T15:26:02.821554Z"
        },
        "papermill": {
          "duration": 2.231786,
          "end_time": "2022-01-04T15:32:51.352932",
          "exception": false,
          "start_time": "2022-01-04T15:32:49.121146",
          "status": "completed"
        },
        "tags": [],
        "id": "ef1735ea",
        "outputId": "d9307dd4-8e00-4a17-94d0-644e3a976609",
        "colab": {
          "base_uri": "https://localhost:8080/"
        }
      },
      "outputs": [
        {
          "output_type": "stream",
          "name": "stdout",
          "text": [
            "   I_y    PF  e_PF   d_if    I_f  id\n",
            "0  3.0  0.66  0.34  0.383  1.563   0\n",
            "1  3.0  0.68  0.32  0.372  1.552   1\n",
            "2  3.0  0.70  0.30  0.360  1.540   2\n",
            "3  3.0  0.72  0.28  0.338  1.518   3\n",
            "4  3.0  0.74  0.26  0.317  1.497   4\n"
          ]
        }
      ],
      "source": [
        "#import packages\n",
        "import numpy as np # linear algebra\n",
        "import pandas as pd # data processing\n",
        "import torch \n",
        "import torch.nn as nn\n",
        "from torch.autograd import Variable\n",
        "import os\n",
        "import matplotlib.pyplot as plt\n",
        "import seaborn as sns\n",
        "\n",
        "#load and print data\n",
        "data = pd.read_csv('/content/SynchronousMachine.csv')\n",
        "data['id'] = data.index\n",
        "print(data.head())"
      ]
    },
    {
      "cell_type": "code",
      "execution_count": null,
      "id": "5b3bafaf",
      "metadata": {
        "execution": {
          "iopub.execute_input": "2022-01-04T15:32:51.376930Z",
          "iopub.status.busy": "2022-01-04T15:32:51.376180Z",
          "iopub.status.idle": "2022-01-04T15:32:51.413114Z",
          "shell.execute_reply": "2022-01-04T15:32:51.413635Z",
          "shell.execute_reply.started": "2022-01-04T14:44:29.31715Z"
        },
        "papermill": {
          "duration": 0.049884,
          "end_time": "2022-01-04T15:32:51.413814",
          "exception": false,
          "start_time": "2022-01-04T15:32:51.363930",
          "status": "completed"
        },
        "tags": [],
        "id": "5b3bafaf",
        "outputId": "4b8e6c7c-4f7d-41ee-e4ba-1083cc68db45"
      },
      "outputs": [
        {
          "data": {
            "text/html": [
              "<div>\n",
              "<style scoped>\n",
              "    .dataframe tbody tr th:only-of-type {\n",
              "        vertical-align: middle;\n",
              "    }\n",
              "\n",
              "    .dataframe tbody tr th {\n",
              "        vertical-align: top;\n",
              "    }\n",
              "\n",
              "    .dataframe thead th {\n",
              "        text-align: right;\n",
              "    }\n",
              "</style>\n",
              "<table border=\"1\" class=\"dataframe\">\n",
              "  <thead>\n",
              "    <tr style=\"text-align: right;\">\n",
              "      <th></th>\n",
              "      <th>I_y</th>\n",
              "      <th>PF</th>\n",
              "      <th>e_PF</th>\n",
              "      <th>d_if</th>\n",
              "      <th>I_f</th>\n",
              "      <th>id</th>\n",
              "    </tr>\n",
              "  </thead>\n",
              "  <tbody>\n",
              "    <tr>\n",
              "      <th>count</th>\n",
              "      <td>557.000000</td>\n",
              "      <td>557.000000</td>\n",
              "      <td>557.000000</td>\n",
              "      <td>557.000000</td>\n",
              "      <td>557.000000</td>\n",
              "      <td>557.000000</td>\n",
              "    </tr>\n",
              "    <tr>\n",
              "      <th>mean</th>\n",
              "      <td>4.499820</td>\n",
              "      <td>0.825296</td>\n",
              "      <td>0.174704</td>\n",
              "      <td>0.350659</td>\n",
              "      <td>1.530659</td>\n",
              "      <td>278.000000</td>\n",
              "    </tr>\n",
              "    <tr>\n",
              "      <th>std</th>\n",
              "      <td>0.896024</td>\n",
              "      <td>0.103925</td>\n",
              "      <td>0.103925</td>\n",
              "      <td>0.180566</td>\n",
              "      <td>0.180566</td>\n",
              "      <td>160.936323</td>\n",
              "    </tr>\n",
              "    <tr>\n",
              "      <th>min</th>\n",
              "      <td>3.000000</td>\n",
              "      <td>0.650000</td>\n",
              "      <td>0.000000</td>\n",
              "      <td>0.037000</td>\n",
              "      <td>1.217000</td>\n",
              "      <td>0.000000</td>\n",
              "    </tr>\n",
              "    <tr>\n",
              "      <th>25%</th>\n",
              "      <td>3.700000</td>\n",
              "      <td>0.740000</td>\n",
              "      <td>0.080000</td>\n",
              "      <td>0.189000</td>\n",
              "      <td>1.369000</td>\n",
              "      <td>139.000000</td>\n",
              "    </tr>\n",
              "    <tr>\n",
              "      <th>50%</th>\n",
              "      <td>4.500000</td>\n",
              "      <td>0.820000</td>\n",
              "      <td>0.180000</td>\n",
              "      <td>0.345000</td>\n",
              "      <td>1.525000</td>\n",
              "      <td>278.000000</td>\n",
              "    </tr>\n",
              "    <tr>\n",
              "      <th>75%</th>\n",
              "      <td>5.300000</td>\n",
              "      <td>0.920000</td>\n",
              "      <td>0.260000</td>\n",
              "      <td>0.486000</td>\n",
              "      <td>1.666000</td>\n",
              "      <td>417.000000</td>\n",
              "    </tr>\n",
              "    <tr>\n",
              "      <th>max</th>\n",
              "      <td>6.000000</td>\n",
              "      <td>1.000000</td>\n",
              "      <td>0.350000</td>\n",
              "      <td>0.769000</td>\n",
              "      <td>1.949000</td>\n",
              "      <td>556.000000</td>\n",
              "    </tr>\n",
              "  </tbody>\n",
              "</table>\n",
              "</div>"
            ],
            "text/plain": [
              "              I_y          PF        e_PF        d_if         I_f          id\n",
              "count  557.000000  557.000000  557.000000  557.000000  557.000000  557.000000\n",
              "mean     4.499820    0.825296    0.174704    0.350659    1.530659  278.000000\n",
              "std      0.896024    0.103925    0.103925    0.180566    0.180566  160.936323\n",
              "min      3.000000    0.650000    0.000000    0.037000    1.217000    0.000000\n",
              "25%      3.700000    0.740000    0.080000    0.189000    1.369000  139.000000\n",
              "50%      4.500000    0.820000    0.180000    0.345000    1.525000  278.000000\n",
              "75%      5.300000    0.920000    0.260000    0.486000    1.666000  417.000000\n",
              "max      6.000000    1.000000    0.350000    0.769000    1.949000  556.000000"
            ]
          },
          "execution_count": 2,
          "metadata": {},
          "output_type": "execute_result"
        }
      ],
      "source": [
        "data.describe()"
      ]
    },
    {
      "cell_type": "code",
      "execution_count": null,
      "id": "26b6d6c1",
      "metadata": {
        "execution": {
          "iopub.execute_input": "2022-01-04T15:32:51.441336Z",
          "iopub.status.busy": "2022-01-04T15:32:51.440276Z",
          "iopub.status.idle": "2022-01-04T15:32:51.822997Z",
          "shell.execute_reply": "2022-01-04T15:32:51.823915Z",
          "shell.execute_reply.started": "2022-01-04T14:44:44.705049Z"
        },
        "papermill": {
          "duration": 0.400786,
          "end_time": "2022-01-04T15:32:51.824119",
          "exception": false,
          "start_time": "2022-01-04T15:32:51.423333",
          "status": "completed"
        },
        "tags": [],
        "id": "26b6d6c1",
        "outputId": "43273545-23d8-4f90-b059-0ba92af84266"
      },
      "outputs": [
        {
          "data": {
            "text/plain": [
              "<AxesSubplot:title={'center':'Plot of power factor and excitation current of synchronous machine'}>"
            ]
          },
          "execution_count": 3,
          "metadata": {},
          "output_type": "execute_result"
        },
        {
          "data": {
            "image/png": "[encoded data removed]",
            "text/plain": [
              "<Figure size 432x288 with 1 Axes>"
            ]
          },
          "metadata": {},
          "output_type": "display_data"
        }
      ],
      "source": [
        "%matplotlib inline\n",
        "sns.set()\n",
        "data.plot(y=['PF', 'I_f'], title='Plot of power factor and excitation current of synchronous machine')"
      ]
    },
    {
      "cell_type": "code",
      "execution_count": null,
      "id": "9b44b305",
      "metadata": {
        "execution": {
          "iopub.execute_input": "2022-01-04T15:32:51.851926Z",
          "iopub.status.busy": "2022-01-04T15:32:51.851260Z",
          "iopub.status.idle": "2022-01-04T15:32:52.697531Z",
          "shell.execute_reply": "2022-01-04T15:32:52.698172Z",
          "shell.execute_reply.started": "2022-01-04T14:49:00.69459Z"
        },
        "papermill": {
          "duration": 0.861517,
          "end_time": "2022-01-04T15:32:52.698350",
          "exception": false,
          "start_time": "2022-01-04T15:32:51.836833",
          "status": "completed"
        },
        "tags": [],
        "id": "9b44b305",
        "outputId": "75ed7acb-282d-46d6-9747-9cdd49d737cb"
      },
      "outputs": [
        {
          "data": {
            "text/plain": [
              "<seaborn.axisgrid.JointGrid at 0x7f40deec34d0>"
            ]
          },
          "execution_count": 4,
          "metadata": {},
          "output_type": "execute_result"
        },
        {
          "data": {
            "image/png": "[encoded data removed]",
            "text/plain": [
              "<Figure size 432x432 with 3 Axes>"
            ]
          },
          "metadata": {},
          "output_type": "display_data"
        }
      ],
      "source": [
        "sns.jointplot(data=data,x='PF', y='I_f')"
      ]
    },
    {
      "cell_type": "code",
      "execution_count": 16,
      "id": "5277b355",
      "metadata": {
        "execution": {
          "iopub.execute_input": "2022-01-04T15:32:52.765384Z",
          "iopub.status.busy": "2022-01-04T15:32:52.764685Z",
          "iopub.status.idle": "2022-01-04T15:32:52.772701Z",
          "shell.execute_reply": "2022-01-04T15:32:52.773260Z",
          "shell.execute_reply.started": "2022-01-04T15:29:38.333666Z"
        },
        "papermill": {
          "duration": 0.024819,
          "end_time": "2022-01-04T15:32:52.773427",
          "exception": false,
          "start_time": "2022-01-04T15:32:52.748608",
          "status": "completed"
        },
        "tags": [],
        "id": "5277b355"
      },
      "outputs": [],
      "source": [
        "from sklearn.model_selection import train_test_split\n",
        "#target value is excitation current of synchronous machine I_f\n",
        "y = data['I_f']\n",
        "X = data.drop(['I_f'], axis=1)\n",
        "        \n",
        "X = torch.from_numpy(X.values).float() \n",
        "y = torch.from_numpy(y.values).float()\n",
        "\n",
        "rng = np.random.RandomState(0)\n",
        "X_train, X_test, y_train, y_test = train_test_split(X, y, random_state=rng)"
      ]
    },
    {
      "cell_type": "code",
      "source": [
        "#normalize data\n",
        "from sklearn.preprocessing import MinMaxScaler\n",
        "\n",
        "scaler = MinMaxScaler(feature_range=(-1, 1))\n",
        "train_data_normalized = scaler.fit_transform(train_dataset.reshape(-1, 1))"
      ],
      "metadata": {
        "id": "6BBDZz1Dw2Vu",
        "outputId": "50ac7ea5-397f-4bd0-9ec5-affd7686ac62",
        "colab": {
          "base_uri": "https://localhost:8080/",
          "height": 322
        }
      },
      "id": "6BBDZz1Dw2Vu",
      "execution_count": 14,
      "outputs": [
        {
          "output_type": "error",
          "ename": "AttributeError",
          "evalue": "ignored",
          "traceback": [
            "\u001b[0;31m---------------------------------------------------------------------------\u001b[0m",
            "\u001b[0;31mAttributeError\u001b[0m                            Traceback (most recent call last)",
            "\u001b[0;32m<ipython-input-14-61d30f3064e8>\u001b[0m in \u001b[0;36m<module>\u001b[0;34m()\u001b[0m\n\u001b[1;32m      3\u001b[0m \u001b[0;34m\u001b[0m\u001b[0m\n\u001b[1;32m      4\u001b[0m \u001b[0mscaler\u001b[0m \u001b[0;34m=\u001b[0m \u001b[0mMinMaxScaler\u001b[0m\u001b[0;34m(\u001b[0m\u001b[0mfeature_range\u001b[0m\u001b[0;34m=\u001b[0m\u001b[0;34m(\u001b[0m\u001b[0;34m-\u001b[0m\u001b[0;36m1\u001b[0m\u001b[0;34m,\u001b[0m \u001b[0;36m1\u001b[0m\u001b[0;34m)\u001b[0m\u001b[0;34m)\u001b[0m\u001b[0;34m\u001b[0m\u001b[0;34m\u001b[0m\u001b[0m\n\u001b[0;32m----> 5\u001b[0;31m \u001b[0mtrain_data_normalized\u001b[0m \u001b[0;34m=\u001b[0m \u001b[0mscaler\u001b[0m\u001b[0;34m.\u001b[0m\u001b[0mfit_transform\u001b[0m\u001b[0;34m(\u001b[0m\u001b[0mtrain_dataset\u001b[0m\u001b[0;34m.\u001b[0m\u001b[0mreshape\u001b[0m\u001b[0;34m(\u001b[0m\u001b[0;34m-\u001b[0m\u001b[0;36m1\u001b[0m\u001b[0;34m,\u001b[0m \u001b[0;36m1\u001b[0m\u001b[0;34m)\u001b[0m\u001b[0;34m)\u001b[0m\u001b[0;34m\u001b[0m\u001b[0;34m\u001b[0m\u001b[0m\n\u001b[0m",
            "\u001b[0;32m/usr/local/lib/python3.7/dist-packages/torch/utils/data/dataset.py\u001b[0m in \u001b[0;36m__getattr__\u001b[0;34m(self, attribute_name)\u001b[0m\n\u001b[1;32m     81\u001b[0m             \u001b[0;32mreturn\u001b[0m \u001b[0mfunction\u001b[0m\u001b[0;34m\u001b[0m\u001b[0;34m\u001b[0m\u001b[0m\n\u001b[1;32m     82\u001b[0m         \u001b[0;32melse\u001b[0m\u001b[0;34m:\u001b[0m\u001b[0;34m\u001b[0m\u001b[0;34m\u001b[0m\u001b[0m\n\u001b[0;32m---> 83\u001b[0;31m             \u001b[0;32mraise\u001b[0m \u001b[0mAttributeError\u001b[0m\u001b[0;34m\u001b[0m\u001b[0;34m\u001b[0m\u001b[0m\n\u001b[0m\u001b[1;32m     84\u001b[0m \u001b[0;34m\u001b[0m\u001b[0m\n\u001b[1;32m     85\u001b[0m     \u001b[0;34m@\u001b[0m\u001b[0mclassmethod\u001b[0m\u001b[0;34m\u001b[0m\u001b[0;34m\u001b[0m\u001b[0m\n",
            "\u001b[0;31mAttributeError\u001b[0m: "
          ]
        }
      ]
    },
    {
      "cell_type": "code",
      "execution_count": 9,
      "id": "37406e05",
      "metadata": {
        "execution": {
          "iopub.execute_input": "2022-01-04T15:32:52.810033Z",
          "iopub.status.busy": "2022-01-04T15:32:52.809125Z",
          "iopub.status.idle": "2022-01-04T15:32:52.811419Z",
          "shell.execute_reply": "2022-01-04T15:32:52.811884Z",
          "shell.execute_reply.started": "2022-01-04T15:29:49.05166Z"
        },
        "papermill": {
          "duration": 0.025135,
          "end_time": "2022-01-04T15:32:52.812051",
          "exception": false,
          "start_time": "2022-01-04T15:32:52.786916",
          "status": "completed"
        },
        "tags": [],
        "id": "37406e05"
      },
      "outputs": [],
      "source": [
        "#Bidirectional LSTM class\n",
        "class NET(nn.Module):\n",
        "    def __init__(self, in_size, h_size, n_layers, out_size):\n",
        "        super(NET, self).__init__()\n",
        "        self.h_size = h_size\n",
        "        self.n_layers = n_layers\n",
        "        self.out_size = out_size\n",
        "        self.lstm = nn.LSTM(in_size, h_size, n_layers, batch_first=True, bidirectional=True)\n",
        "        self.fc = nn.Linear(h_size * 2, out_size)\n",
        "             \n",
        "    def forward(self, x):\n",
        "        #init. states \n",
        "        h0 = torch.zeros(self.n_layers * 2, x.size(0), self.h_size)\n",
        "        c0 = torch.zeros(self.n_layers * 2, x.size(0), self.h_size)\n",
        "        \n",
        "        out, _ = self.lstm(x, (h0, c0)) \n",
        "        out = self.fc(out)\n",
        "        return out "
      ]
    },
    {
      "cell_type": "code",
      "execution_count": 10,
      "id": "ac28bc89",
      "metadata": {
        "execution": {
          "iopub.execute_input": "2022-01-04T15:32:52.842725Z",
          "iopub.status.busy": "2022-01-04T15:32:52.841885Z",
          "iopub.status.idle": "2022-01-04T15:32:52.939113Z",
          "shell.execute_reply": "2022-01-04T15:32:52.938312Z",
          "shell.execute_reply.started": "2022-01-04T15:29:59.763763Z"
        },
        "papermill": {
          "duration": 0.113488,
          "end_time": "2022-01-04T15:32:52.939300",
          "exception": false,
          "start_time": "2022-01-04T15:32:52.825812",
          "status": "completed"
        },
        "tags": [],
        "id": "ac28bc89",
        "outputId": "19192a43-ac25-442e-f9a8-b53841ddfe06",
        "colab": {
          "base_uri": "https://localhost:8080/"
        }
      },
      "outputs": [
        {
          "output_type": "stream",
          "name": "stdout",
          "text": [
            "NET(\n",
            "  (lstm): LSTM(11, 20, num_layers=2, batch_first=True, bidirectional=True)\n",
            "  (fc): Linear(in_features=40, out_features=1, bias=True)\n",
            ")\n"
          ]
        }
      ],
      "source": [
        "#defining the sequence length and the sessions ids which are used for training\n",
        "seq_len = 100\n",
        "ids = [4, 6, 10, 11, 20, 27, 29, 30, 31,32, 36] + [i+41 for i in range(35)]\n",
        "\n",
        "#create an lstm instance\n",
        "model = NET(11, 20, 2, 1)\n",
        "print(model)\n",
        "\n",
        "#define optimizer and loss function\n",
        "optimizer = torch.optim.Adam(model.parameters(), lr=0.01)\n",
        "criterion = nn.MSELoss()"
      ]
    },
    {
      "cell_type": "code",
      "execution_count": 11,
      "id": "6f778651",
      "metadata": {
        "execution": {
          "iopub.execute_input": "2022-01-04T15:32:52.976108Z",
          "iopub.status.busy": "2022-01-04T15:32:52.975387Z",
          "iopub.status.idle": "2022-01-04T15:34:16.523485Z",
          "shell.execute_reply": "2022-01-04T15:34:16.524019Z"
        },
        "papermill": {
          "duration": 83.570194,
          "end_time": "2022-01-04T15:34:16.524205",
          "exception": false,
          "start_time": "2022-01-04T15:32:52.954011",
          "status": "completed"
        },
        "tags": [],
        "id": "6f778651",
        "outputId": "28c8b795-8ea9-4544-afd1-6d91598874fa",
        "colab": {
          "base_uri": "https://localhost:8080/",
          "height": 234
        }
      },
      "outputs": [
        {
          "output_type": "error",
          "ename": "RuntimeError",
          "evalue": "ignored",
          "traceback": [
            "\u001b[0;31m---------------------------------------------------------------------------\u001b[0m",
            "\u001b[0;31mRuntimeError\u001b[0m                              Traceback (most recent call last)",
            "\u001b[0;32m<ipython-input-11-e895c2e176d5>\u001b[0m in \u001b[0;36m<module>\u001b[0;34m()\u001b[0m\n\u001b[1;32m      7\u001b[0m \u001b[0;32mfor\u001b[0m \u001b[0me\u001b[0m \u001b[0;32min\u001b[0m \u001b[0mrange\u001b[0m\u001b[0;34m(\u001b[0m\u001b[0mn_epochs\u001b[0m\u001b[0;34m)\u001b[0m\u001b[0;34m:\u001b[0m\u001b[0;34m\u001b[0m\u001b[0;34m\u001b[0m\u001b[0m\n\u001b[1;32m      8\u001b[0m         \u001b[0moptimizer\u001b[0m\u001b[0;34m.\u001b[0m\u001b[0mzero_grad\u001b[0m\u001b[0;34m(\u001b[0m\u001b[0;34m)\u001b[0m\u001b[0;34m\u001b[0m\u001b[0;34m\u001b[0m\u001b[0m\n\u001b[0;32m----> 9\u001b[0;31m         \u001b[0mout\u001b[0m \u001b[0;34m=\u001b[0m \u001b[0mmodel\u001b[0m\u001b[0;34m.\u001b[0m\u001b[0mforward\u001b[0m\u001b[0;34m(\u001b[0m\u001b[0mX\u001b[0m\u001b[0;34m.\u001b[0m\u001b[0mview\u001b[0m\u001b[0;34m(\u001b[0m\u001b[0;34m-\u001b[0m\u001b[0;36m1\u001b[0m\u001b[0;34m,\u001b[0m \u001b[0mseq_len\u001b[0m\u001b[0;34m,\u001b[0m \u001b[0;36m11\u001b[0m\u001b[0;34m)\u001b[0m\u001b[0;34m)\u001b[0m\u001b[0;34m\u001b[0m\u001b[0;34m\u001b[0m\u001b[0m\n\u001b[0m\u001b[1;32m     10\u001b[0m         \u001b[0mloss\u001b[0m \u001b[0;34m=\u001b[0m \u001b[0mcriterion\u001b[0m\u001b[0;34m(\u001b[0m\u001b[0mout\u001b[0m\u001b[0;34m,\u001b[0m \u001b[0my\u001b[0m\u001b[0;34m.\u001b[0m\u001b[0mview\u001b[0m\u001b[0;34m(\u001b[0m\u001b[0;34m-\u001b[0m\u001b[0;36m1\u001b[0m\u001b[0;34m,\u001b[0m \u001b[0mseq_len\u001b[0m\u001b[0;34m,\u001b[0m \u001b[0;36m1\u001b[0m\u001b[0;34m)\u001b[0m\u001b[0;34m)\u001b[0m\u001b[0;34m\u001b[0m\u001b[0;34m\u001b[0m\u001b[0m\n\u001b[1;32m     11\u001b[0m \u001b[0;34m\u001b[0m\u001b[0m\n",
            "\u001b[0;31mRuntimeError\u001b[0m: shape '[-1, 100, 11]' is invalid for input of size 2785"
          ]
        }
      ],
      "source": [
        "n_epochs = 30\n",
        "\n",
        "#train model\n",
        "train_losses = []\n",
        "\n",
        "model.train()\n",
        "for e in range(n_epochs):\n",
        "        optimizer.zero_grad()\n",
        "        out = model.forward(X.view(-1, seq_len, 11))\n",
        "        loss = criterion(out, y.view(-1, seq_len, 1))\n",
        "        \n",
        "        loss.backward()\n",
        "        optimizer.step()\n",
        "        train_losses.append(loss.detach().numpy())\n",
        "    \n",
        "#print training error\n",
        "plt.rcParams[\"figure.figsize\"] = [16, 9]\n",
        "plt.plot(train_losses, 'b', label='Training Error')\n",
        "plt.legend(loc='upper right')\n",
        "plt.ylabel('Error')\n",
        "plt.show()"
      ]
    }
  ],
  "metadata": {
    "kernelspec": {
      "display_name": "Python 3",
      "language": "python",
      "name": "python3"
    },
    "language_info": {
      "codemirror_mode": {
        "name": "ipython",
        "version": 3
      },
      "file_extension": ".py",
      "mimetype": "text/x-python",
      "name": "python",
      "nbconvert_exporter": "python",
      "pygments_lexer": "ipython3",
      "version": "3.7.12"
    },
    "papermill": {
      "default_parameters": {},
      "duration": 97.859875,
      "end_time": "2022-01-04T15:34:17.348858",
      "environment_variables": {},
      "exception": null,
      "input_path": "__notebook__.ipynb",
      "output_path": "__notebook__.ipynb",
      "parameters": {},
      "start_time": "2022-01-04T15:32:39.488983",
      "version": "2.3.3"
    },
    "colab": {
      "name": "sync-maschine.ipynb",
      "provenance": []
    },
    "accelerator": "GPU"
  },
  "nbformat": 4,
  "nbformat_minor": 5
}